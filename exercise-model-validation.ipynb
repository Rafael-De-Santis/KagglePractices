{
 "cells": [
  {
   "cell_type": "markdown",
   "id": "86bb357b",
   "metadata": {
    "papermill": {
     "duration": 0.006306,
     "end_time": "2023-01-17T06:13:22.871409",
     "exception": false,
     "start_time": "2023-01-17T06:13:22.865103",
     "status": "completed"
    },
    "tags": []
   },
   "source": [
    "**This notebook is an exercise in the [Introduction to Machine Learning](https://www.kaggle.com/learn/intro-to-machine-learning) course.  You can reference the tutorial at [this link](https://www.kaggle.com/dansbecker/model-validation).**\n",
    "\n",
    "---\n"
   ]
  },
  {
   "cell_type": "markdown",
   "id": "442d3b9d",
   "metadata": {
    "papermill": {
     "duration": 0.004398,
     "end_time": "2023-01-17T06:13:22.880776",
     "exception": false,
     "start_time": "2023-01-17T06:13:22.876378",
     "status": "completed"
    },
    "tags": []
   },
   "source": [
    "## Recap\n",
    "You've built a model. In this exercise you will test how good your model is.\n",
    "\n",
    "Run the cell below to set up your coding environment where the previous exercise left off."
   ]
  },
  {
   "cell_type": "code",
   "execution_count": 1,
   "id": "c7226d3c",
   "metadata": {
    "execution": {
     "iopub.execute_input": "2023-01-17T06:13:22.892661Z",
     "iopub.status.busy": "2023-01-17T06:13:22.892166Z",
     "iopub.status.idle": "2023-01-17T06:13:24.083056Z",
     "shell.execute_reply": "2023-01-17T06:13:24.080750Z"
    },
    "papermill": {
     "duration": 1.20254,
     "end_time": "2023-01-17T06:13:24.088021",
     "exception": false,
     "start_time": "2023-01-17T06:13:22.885481",
     "status": "completed"
    },
    "tags": []
   },
   "outputs": [
    {
     "name": "stdout",
     "output_type": "stream",
     "text": [
      "First in-sample predictions: [208500. 181500. 223500. 140000. 250000.]\n",
      "Actual target values for those homes: [208500, 181500, 223500, 140000, 250000]\n",
      "Setup Complete\n"
     ]
    }
   ],
   "source": [
    "# Code you have previously used to load data\n",
    "import pandas as pd\n",
    "from sklearn.tree import DecisionTreeRegressor\n",
    "\n",
    "# Path of the file to read\n",
    "iowa_file_path = '../input/home-data-for-ml-course/train.csv'\n",
    "\n",
    "home_data = pd.read_csv(iowa_file_path)\n",
    "y = home_data.SalePrice\n",
    "feature_columns = ['LotArea', 'YearBuilt', '1stFlrSF', '2ndFlrSF', 'FullBath', 'BedroomAbvGr', 'TotRmsAbvGrd']\n",
    "X = home_data[feature_columns]\n",
    "\n",
    "# Specify Model\n",
    "iowa_model = DecisionTreeRegressor()\n",
    "# Fit Model\n",
    "iowa_model.fit(X, y)\n",
    "\n",
    "print(\"First in-sample predictions:\", iowa_model.predict(X.head()))\n",
    "print(\"Actual target values for those homes:\", y.head().tolist())\n",
    "\n",
    "# Set up code checking\n",
    "from learntools.core import binder\n",
    "binder.bind(globals())\n",
    "from learntools.machine_learning.ex4 import *\n",
    "print(\"Setup Complete\")"
   ]
  },
  {
   "cell_type": "markdown",
   "id": "63aa2167",
   "metadata": {
    "papermill": {
     "duration": 0.005215,
     "end_time": "2023-01-17T06:13:24.098485",
     "exception": false,
     "start_time": "2023-01-17T06:13:24.093270",
     "status": "completed"
    },
    "tags": []
   },
   "source": [
    "# Exercises\n",
    "\n",
    "## Step 1: Split Your Data\n",
    "Use the `train_test_split` function to split up your data.\n",
    "\n",
    "Give it the argument `random_state=1` so the `check` functions know what to expect when verifying your code.\n",
    "\n",
    "Recall, your features are loaded in the DataFrame **X** and your target is loaded in **y**.\n"
   ]
  },
  {
   "cell_type": "markdown",
   "id": "1c53763a",
   "metadata": {
    "papermill": {
     "duration": 0.004883,
     "end_time": "2023-01-17T06:13:24.108024",
     "exception": false,
     "start_time": "2023-01-17T06:13:24.103141",
     "status": "completed"
    },
    "tags": []
   },
   "source": []
  },
  {
   "cell_type": "code",
   "execution_count": 2,
   "id": "572a536f",
   "metadata": {
    "execution": {
     "iopub.execute_input": "2023-01-17T06:13:24.119745Z",
     "iopub.status.busy": "2023-01-17T06:13:24.119141Z",
     "iopub.status.idle": "2023-01-17T06:13:24.131988Z",
     "shell.execute_reply": "2023-01-17T06:13:24.130965Z"
    },
    "papermill": {
     "duration": 0.021217,
     "end_time": "2023-01-17T06:13:24.134009",
     "exception": false,
     "start_time": "2023-01-17T06:13:24.112792",
     "status": "completed"
    },
    "tags": []
   },
   "outputs": [
    {
     "data": {
      "application/javascript": [
       "parent.postMessage({\"jupyterEvent\": \"custom.exercise_interaction\", \"data\": {\"outcomeType\": 1, \"valueTowardsCompletion\": 0.25, \"interactionType\": 1, \"questionType\": 2, \"questionId\": \"1_SplitData\", \"learnToolsVersion\": \"0.3.4\", \"failureMessage\": \"\", \"exceptionClass\": \"\", \"trace\": \"\"}}, \"*\")"
      ],
      "text/plain": [
       "<IPython.core.display.Javascript object>"
      ]
     },
     "metadata": {},
     "output_type": "display_data"
    },
    {
     "data": {
      "text/markdown": [
       "<span style=\"color:#33cc33\">Correct</span>"
      ],
      "text/plain": [
       "Correct"
      ]
     },
     "metadata": {},
     "output_type": "display_data"
    }
   ],
   "source": [
    "# Import the train_test_split function and uncomment\n",
    "from sklearn.model_selection import train_test_split\n",
    "\n",
    "# fill in and uncomment\n",
    "train_X, val_X, train_y, val_y = train_test_split(X, y, random_state = 1)\n",
    "# Check your answer\n",
    "step_1.check()"
   ]
  },
  {
   "cell_type": "code",
   "execution_count": 3,
   "id": "45a0cdc5",
   "metadata": {
    "execution": {
     "iopub.execute_input": "2023-01-17T06:13:24.146163Z",
     "iopub.status.busy": "2023-01-17T06:13:24.145402Z",
     "iopub.status.idle": "2023-01-17T06:13:24.149608Z",
     "shell.execute_reply": "2023-01-17T06:13:24.148717Z"
    },
    "papermill": {
     "duration": 0.01291,
     "end_time": "2023-01-17T06:13:24.151857",
     "exception": false,
     "start_time": "2023-01-17T06:13:24.138947",
     "status": "completed"
    },
    "tags": []
   },
   "outputs": [],
   "source": [
    "# The lines below will show you a hint or the solution.\n",
    "# step_1.hint() \n",
    "# step_1.solution()\n"
   ]
  },
  {
   "cell_type": "markdown",
   "id": "ad937513",
   "metadata": {
    "papermill": {
     "duration": 0.004653,
     "end_time": "2023-01-17T06:13:24.161555",
     "exception": false,
     "start_time": "2023-01-17T06:13:24.156902",
     "status": "completed"
    },
    "tags": []
   },
   "source": [
    "## Step 2: Specify and Fit the Model\n",
    "\n",
    "Create a `DecisionTreeRegressor` model and fit it to the relevant data.\n",
    "Set `random_state` to 1 again when creating the model."
   ]
  },
  {
   "cell_type": "code",
   "execution_count": 4,
   "id": "ad6751c1",
   "metadata": {
    "execution": {
     "iopub.execute_input": "2023-01-17T06:13:24.173594Z",
     "iopub.status.busy": "2023-01-17T06:13:24.173078Z",
     "iopub.status.idle": "2023-01-17T06:13:24.203220Z",
     "shell.execute_reply": "2023-01-17T06:13:24.201961Z"
    },
    "papermill": {
     "duration": 0.038985,
     "end_time": "2023-01-17T06:13:24.205420",
     "exception": false,
     "start_time": "2023-01-17T06:13:24.166435",
     "status": "completed"
    },
    "tags": []
   },
   "outputs": [
    {
     "name": "stdout",
     "output_type": "stream",
     "text": [
      "[186500. 184000. 130000.  92000. 164500. 220000. 335000. 144152. 215000.\n",
      " 262000.]\n",
      "[186500. 184000. 130000.  92000. 164500. 220000. 335000. 144152. 215000.\n",
      " 262000.]\n"
     ]
    },
    {
     "data": {
      "application/javascript": [
       "parent.postMessage({\"jupyterEvent\": \"custom.exercise_interaction\", \"data\": {\"outcomeType\": 1, \"valueTowardsCompletion\": 0.25, \"interactionType\": 1, \"questionType\": 2, \"questionId\": \"2_FitModelWithTrain\", \"learnToolsVersion\": \"0.3.4\", \"failureMessage\": \"\", \"exceptionClass\": \"\", \"trace\": \"\"}}, \"*\")"
      ],
      "text/plain": [
       "<IPython.core.display.Javascript object>"
      ]
     },
     "metadata": {},
     "output_type": "display_data"
    },
    {
     "data": {
      "text/markdown": [
       "<span style=\"color:#33cc33\">Correct</span>"
      ],
      "text/plain": [
       "Correct"
      ]
     },
     "metadata": {},
     "output_type": "display_data"
    }
   ],
   "source": [
    "# You imported DecisionTreeRegressor in your last exercise\n",
    "# and that code has been copied to the setup code above. So, no need to\n",
    "# import it again\n",
    "\n",
    "# Specify the model\n",
    "iowa_model = DecisionTreeRegressor(random_state = 1)\n",
    "\n",
    "# Fit iowa_model with the training data.\n",
    "iowa_model.fit(train_X, train_y)\n",
    "# Check your answer\n",
    "step_2.check()"
   ]
  },
  {
   "cell_type": "code",
   "execution_count": 5,
   "id": "4a955cfc",
   "metadata": {
    "execution": {
     "iopub.execute_input": "2023-01-17T06:13:24.218045Z",
     "iopub.status.busy": "2023-01-17T06:13:24.217352Z",
     "iopub.status.idle": "2023-01-17T06:13:24.222294Z",
     "shell.execute_reply": "2023-01-17T06:13:24.220937Z"
    },
    "papermill": {
     "duration": 0.013793,
     "end_time": "2023-01-17T06:13:24.224435",
     "exception": false,
     "start_time": "2023-01-17T06:13:24.210642",
     "status": "completed"
    },
    "tags": []
   },
   "outputs": [],
   "source": [
    "# step_2.hint()\n",
    "# step_2.solution()"
   ]
  },
  {
   "cell_type": "markdown",
   "id": "7ea36eaf",
   "metadata": {
    "papermill": {
     "duration": 0.005178,
     "end_time": "2023-01-17T06:13:24.236505",
     "exception": false,
     "start_time": "2023-01-17T06:13:24.231327",
     "status": "completed"
    },
    "tags": []
   },
   "source": [
    "## Step 3: Make Predictions with Validation data\n"
   ]
  },
  {
   "cell_type": "code",
   "execution_count": 6,
   "id": "9e7c7e61",
   "metadata": {
    "execution": {
     "iopub.execute_input": "2023-01-17T06:13:24.248998Z",
     "iopub.status.busy": "2023-01-17T06:13:24.248606Z",
     "iopub.status.idle": "2023-01-17T06:13:24.260241Z",
     "shell.execute_reply": "2023-01-17T06:13:24.259309Z"
    },
    "papermill": {
     "duration": 0.020319,
     "end_time": "2023-01-17T06:13:24.262183",
     "exception": false,
     "start_time": "2023-01-17T06:13:24.241864",
     "status": "completed"
    },
    "tags": []
   },
   "outputs": [
    {
     "data": {
      "application/javascript": [
       "parent.postMessage({\"jupyterEvent\": \"custom.exercise_interaction\", \"data\": {\"outcomeType\": 1, \"valueTowardsCompletion\": 0.25, \"interactionType\": 1, \"questionType\": 2, \"questionId\": \"3_ValPreds\", \"learnToolsVersion\": \"0.3.4\", \"failureMessage\": \"\", \"exceptionClass\": \"\", \"trace\": \"\"}}, \"*\")"
      ],
      "text/plain": [
       "<IPython.core.display.Javascript object>"
      ]
     },
     "metadata": {},
     "output_type": "display_data"
    },
    {
     "data": {
      "text/markdown": [
       "<span style=\"color:#33cc33\">Correct</span>"
      ],
      "text/plain": [
       "Correct"
      ]
     },
     "metadata": {},
     "output_type": "display_data"
    }
   ],
   "source": [
    "# Predict with all validation observations\n",
    "val_predictions = iowa_model.predict(val_X)\n",
    "\n",
    "# Check your answer\n",
    "step_3.check()"
   ]
  },
  {
   "cell_type": "code",
   "execution_count": 7,
   "id": "21aa7f3e",
   "metadata": {
    "execution": {
     "iopub.execute_input": "2023-01-17T06:13:24.275938Z",
     "iopub.status.busy": "2023-01-17T06:13:24.274583Z",
     "iopub.status.idle": "2023-01-17T06:13:24.280077Z",
     "shell.execute_reply": "2023-01-17T06:13:24.278910Z"
    },
    "papermill": {
     "duration": 0.014865,
     "end_time": "2023-01-17T06:13:24.282659",
     "exception": false,
     "start_time": "2023-01-17T06:13:24.267794",
     "status": "completed"
    },
    "tags": []
   },
   "outputs": [],
   "source": [
    "# step_3.hint()\n",
    "#step_3.solution()"
   ]
  },
  {
   "cell_type": "markdown",
   "id": "4da45ae4",
   "metadata": {
    "papermill": {
     "duration": 0.005269,
     "end_time": "2023-01-17T06:13:24.293746",
     "exception": false,
     "start_time": "2023-01-17T06:13:24.288477",
     "status": "completed"
    },
    "tags": []
   },
   "source": [
    "Inspect your predictions and actual values from validation data."
   ]
  },
  {
   "cell_type": "code",
   "execution_count": 8,
   "id": "2aa30e59",
   "metadata": {
    "execution": {
     "iopub.execute_input": "2023-01-17T06:13:24.306266Z",
     "iopub.status.busy": "2023-01-17T06:13:24.305845Z",
     "iopub.status.idle": "2023-01-17T06:13:24.313286Z",
     "shell.execute_reply": "2023-01-17T06:13:24.311810Z"
    },
    "papermill": {
     "duration": 0.01624,
     "end_time": "2023-01-17T06:13:24.315533",
     "exception": false,
     "start_time": "2023-01-17T06:13:24.299293",
     "status": "completed"
    },
    "tags": []
   },
   "outputs": [
    {
     "name": "stdout",
     "output_type": "stream",
     "text": [
      "[186500. 184000. 130000.  92000. 164500.]\n",
      "0    208500\n",
      "1    181500\n",
      "2    223500\n",
      "3    140000\n",
      "4    250000\n",
      "Name: SalePrice, dtype: int64\n"
     ]
    }
   ],
   "source": [
    "# print the top few validation predictions\n",
    "print(val_predictions[:5])\n",
    "# print the top few actual prices from validation data\n",
    "print(home_data.SalePrice[:5])"
   ]
  },
  {
   "cell_type": "markdown",
   "id": "322b0e1a",
   "metadata": {
    "papermill": {
     "duration": 0.005407,
     "end_time": "2023-01-17T06:13:24.326738",
     "exception": false,
     "start_time": "2023-01-17T06:13:24.321331",
     "status": "completed"
    },
    "tags": []
   },
   "source": [
    "What do you notice that is different from what you saw with in-sample predictions (which are printed after the top code cell in this page).\n",
    "\n",
    "Do you remember why validation predictions differ from in-sample (or training) predictions? This is an important idea from the last lesson.\n",
    "\n",
    "First in-sample predictions: [208500. 181500. 223500. 140000. 250000.]\n",
    "Actual target values for those homes: [208500, 181500, 223500, 140000, 250000]\n",
    "\n",
    "## Step 4: Calculate the Mean Absolute Error in Validation Data\n"
   ]
  },
  {
   "cell_type": "code",
   "execution_count": 9,
   "id": "7ee1a2ea",
   "metadata": {
    "execution": {
     "iopub.execute_input": "2023-01-17T06:13:24.339657Z",
     "iopub.status.busy": "2023-01-17T06:13:24.339212Z",
     "iopub.status.idle": "2023-01-17T06:13:24.350815Z",
     "shell.execute_reply": "2023-01-17T06:13:24.349431Z"
    },
    "papermill": {
     "duration": 0.020666,
     "end_time": "2023-01-17T06:13:24.352995",
     "exception": false,
     "start_time": "2023-01-17T06:13:24.332329",
     "status": "completed"
    },
    "tags": []
   },
   "outputs": [
    {
     "name": "stdout",
     "output_type": "stream",
     "text": [
      "29652.931506849316\n"
     ]
    },
    {
     "data": {
      "application/javascript": [
       "parent.postMessage({\"jupyterEvent\": \"custom.exercise_interaction\", \"data\": {\"outcomeType\": 1, \"valueTowardsCompletion\": 0.25, \"interactionType\": 1, \"questionType\": 1, \"questionId\": \"4_MAE\", \"learnToolsVersion\": \"0.3.4\", \"failureMessage\": \"\", \"exceptionClass\": \"\", \"trace\": \"\"}}, \"*\")"
      ],
      "text/plain": [
       "<IPython.core.display.Javascript object>"
      ]
     },
     "metadata": {},
     "output_type": "display_data"
    },
    {
     "data": {
      "text/markdown": [
       "<span style=\"color:#33cc33\">Correct</span>"
      ],
      "text/plain": [
       "Correct"
      ]
     },
     "metadata": {},
     "output_type": "display_data"
    }
   ],
   "source": [
    "from sklearn.metrics import mean_absolute_error\n",
    "val_mae = mean_absolute_error(val_y, val_predictions)\n",
    "\n",
    "# uncomment following line to see the validation_mae\n",
    "print(val_mae)\n",
    "\n",
    "# Check your answer\n",
    "step_4.check()"
   ]
  },
  {
   "cell_type": "code",
   "execution_count": 10,
   "id": "f5e3c03b",
   "metadata": {
    "execution": {
     "iopub.execute_input": "2023-01-17T06:13:24.366483Z",
     "iopub.status.busy": "2023-01-17T06:13:24.366078Z",
     "iopub.status.idle": "2023-01-17T06:13:24.370435Z",
     "shell.execute_reply": "2023-01-17T06:13:24.369400Z"
    },
    "papermill": {
     "duration": 0.01416,
     "end_time": "2023-01-17T06:13:24.372952",
     "exception": false,
     "start_time": "2023-01-17T06:13:24.358792",
     "status": "completed"
    },
    "tags": []
   },
   "outputs": [],
   "source": [
    "#step_4.hint()\n",
    "#step_4.solution()"
   ]
  },
  {
   "cell_type": "markdown",
   "id": "af93cefc",
   "metadata": {
    "papermill": {
     "duration": 0.005499,
     "end_time": "2023-01-17T06:13:24.384318",
     "exception": false,
     "start_time": "2023-01-17T06:13:24.378819",
     "status": "completed"
    },
    "tags": []
   },
   "source": [
    "Is that MAE good?  There isn't a general rule for what values are good that applies across applications. But you'll see how to use (and improve) this number in the next step.\n",
    "\n",
    "# Keep Going\n",
    "\n",
    "You are ready for **[Underfitting and Overfitting](https://www.kaggle.com/dansbecker/underfitting-and-overfitting).**\n"
   ]
  },
  {
   "cell_type": "markdown",
   "id": "c9366320",
   "metadata": {
    "papermill": {
     "duration": 0.00544,
     "end_time": "2023-01-17T06:13:24.395512",
     "exception": false,
     "start_time": "2023-01-17T06:13:24.390072",
     "status": "completed"
    },
    "tags": []
   },
   "source": [
    "---\n",
    "\n",
    "\n",
    "\n",
    "\n",
    "*Have questions or comments? Visit the [course discussion forum](https://www.kaggle.com/learn/intro-to-machine-learning/discussion) to chat with other learners.*"
   ]
  }
 ],
 "metadata": {
  "kernelspec": {
   "display_name": "Python 3",
   "language": "python",
   "name": "python3"
  },
  "language_info": {
   "codemirror_mode": {
    "name": "ipython",
    "version": 3
   },
   "file_extension": ".py",
   "mimetype": "text/x-python",
   "name": "python",
   "nbconvert_exporter": "python",
   "pygments_lexer": "ipython3",
   "version": "3.7.12"
  },
  "papermill": {
   "default_parameters": {},
   "duration": 10.73887,
   "end_time": "2023-01-17T06:13:25.123733",
   "environment_variables": {},
   "exception": null,
   "input_path": "__notebook__.ipynb",
   "output_path": "__notebook__.ipynb",
   "parameters": {},
   "start_time": "2023-01-17T06:13:14.384863",
   "version": "2.3.4"
  }
 },
 "nbformat": 4,
 "nbformat_minor": 5
}
